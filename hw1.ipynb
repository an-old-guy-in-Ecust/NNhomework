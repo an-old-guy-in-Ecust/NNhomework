{
 "cells": [
  {
   "cell_type": "code",
   "execution_count": 8,
   "outputs": [
    {
     "data": {
      "text/plain": "(60000, 28, 28)"
     },
     "execution_count": 8,
     "metadata": {},
     "output_type": "execute_result"
    }
   ],
   "source": [
    "import numpy as np\n",
    "import tensorflow as tf\n",
    "\n",
    "mnist = tf.keras.datasets.mnist\n",
    "(X_train, y_train), (X_test, y_test) = mnist.load_data()\n",
    "X_train.shape"
   ],
   "metadata": {
    "collapsed": false
   }
  },
  {
   "cell_type": "code",
   "execution_count": 9,
   "outputs": [],
   "source": [
    "# 将图像数据展开为向量形式\n",
    "X_train = X_train.reshape(X_train.shape[0], -1)\n",
    "X_test = X_test.reshape(X_test.shape[0], -1)"
   ],
   "metadata": {
    "collapsed": false
   }
  },
  {
   "cell_type": "code",
   "execution_count": 10,
   "outputs": [],
   "source": [
    "def softmax(x):\n",
    "    x = x.astype(np.float)\n",
    "    xmax = np.max(x, axis=1, keepdims=True)\n",
    "    e_x = np.exp(x - xmax)\n",
    "    smax = np.sum(e_x, axis=1, keepdims=True)\n",
    "    return e_x / smax\n",
    "\n",
    "\n",
    "def CrossEntropy(predict, target):\n",
    "    N = predict.shape[0]\n",
    "    entropy = -np.log(predict[np.arange(N), target])\n",
    "    return entropy"
   ],
   "metadata": {
    "collapsed": false
   }
  },
  {
   "cell_type": "code",
   "execution_count": 11,
   "outputs": [],
   "source": [
    "from tqdm import tqdm\n",
    "import matplotlib.pyplot as plt\n",
    "\n",
    "\n",
    "class TwoLayerModel:\n",
    "    def __init__(self, hidden_size, input_size=784, output_size=10, std=1e-4):\n",
    "        self.params = {'W1': std * np.random.randn(input_size, hidden_size), 'b1': np.zeros(hidden_size),\n",
    "                       'W2': std * np.random.randn(hidden_size, output_size), 'b2': np.zeros(output_size)}\n",
    "        self.patience = 5\n",
    "\n",
    "    def forward(self, X):\n",
    "        O = {'X': X}\n",
    "        Y_1 = np.dot(X, self.params['W1']) + self.params['b1']\n",
    "        o_1 = 1 / (1 + np.exp(-Y_1))\n",
    "        Y_2 = np.dot(o_1, self.params['W2']) + self.params['b2']\n",
    "        o_2 = softmax(Y_2)\n",
    "        O['Y_1'], O['o_1'], O['Y_2'], O['o_2'] = Y_1, o_1, Y_2, o_2\n",
    "        return O\n",
    "\n",
    "    def loss_grad(self, X, y, reg):\n",
    "        O = self.forward(X)\n",
    "        Y_1, o_1, Y_2, o_2 = O['Y_1'], O['o_1'], O['Y_2'], O['o_2']\n",
    "        N = X.shape[0]\n",
    "        loss = np.sum(CrossEntropy(o_2, y)) / N\n",
    "        dY_2 = o_2.copy()\n",
    "        dY_2[np.arange(N), y] -= 1\n",
    "        dY_2 /= N\n",
    "\n",
    "        # backward\n",
    "        dW2 = np.dot(o_1.T, dY_2)\n",
    "        db2 = np.sum(dY_2, axis=0)\n",
    "        do_1 = np.dot(dY_2, self.params['W2'].T)\n",
    "        dY_1 = np.multiply(do_1, 1 - do_1)\n",
    "        dW1 = np.dot(X.T, dY_1)\n",
    "        db1 = np.sum(dY_1, axis=0)\n",
    "        dW2 += reg * self.params['W2']\n",
    "        dW1 += reg * self.params['W1']\n",
    "        grads = {'W1': dW1, 'b1': db1, 'W2': dW2, 'b2': db2}\n",
    "        return loss, grads\n",
    "\n",
    "    def train(self, X, y, reg, epochs=20, lr=0.5, lr_decay=0.95, batch_size=32):\n",
    "        N, D = X.shape\n",
    "        num_iter = N // batch_size\n",
    "        avgl = []\n",
    "        acc = []\n",
    "        patience = 0\n",
    "        best_val = 0\n",
    "        for epoch in range(epochs):\n",
    "            L = 0\n",
    "            for i in tqdm(range(num_iter)):\n",
    "                batch_indices = np.random.choice(N, batch_size, replace=True)\n",
    "                X_batch = X[batch_indices]\n",
    "                Y_batch = y[batch_indices]\n",
    "                loss, grads = self.loss_grad(X_batch, Y_batch, reg)\n",
    "                L += loss\n",
    "                # 更新参数\n",
    "                self.params['W1'] -= lr * grads['W1']\n",
    "                self.params['b1'] -= lr * grads['b1']\n",
    "                self.params['W2'] -= lr * grads['W2']\n",
    "                self.params['b2'] -= lr * grads['b2']\n",
    "                if not i % 1000:\n",
    "                    lr *= lr_decay\n",
    "            train_acc = (self.predict(X_test) == y_test).mean()\n",
    "            patience += 1\n",
    "            if train_acc > best_val:\n",
    "                best_val = train_acc\n",
    "                patience = 0\n",
    "            elif patience >= self.patience:\n",
    "                break\n",
    "            L /= num_iter\n",
    "            avgl.append(L)\n",
    "            acc.append(train_acc)\n",
    "            print(f\"epoch {epoch} loss: {L}, train_acc {train_acc}\")\n",
    "        return avgl, acc\n",
    "\n",
    "    def predict(self, X):\n",
    "        o_2 = self.forward(X)['o_2']\n",
    "        y_pred = np.argmax(o_2, axis=1)\n",
    "        return y_pred\n",
    "\n",
    "    def save(self, path):\n",
    "        with open(path, 'w') as f:\n",
    "            f.write(f'params: {self.params}')\n",
    "            f.write(\"activate function: sigmoid\")"
   ],
   "metadata": {
    "collapsed": false
   }
  },
  {
   "cell_type": "code",
   "execution_count": 12,
   "outputs": [
    {
     "name": "stderr",
     "output_type": "stream",
     "text": [
      "  0%|          | 0/1875 [00:00<?, ?it/s]C:\\Users\\99480\\AppData\\Local\\Temp\\ipykernel_15332\\3395470305.py:2: DeprecationWarning: `np.float` is a deprecated alias for the builtin `float`. To silence this warning, use `float` by itself. Doing this will not modify any behavior and is safe. If you specifically wanted the numpy scalar type, use `np.float64` here.\n",
      "Deprecated in NumPy 1.20; for more details and guidance: https://numpy.org/devdocs/release/1.20.0-notes.html#deprecations\n",
      "  x = x.astype(np.float)\n",
      "C:\\Users\\99480\\AppData\\Local\\Temp\\ipykernel_15332\\1954188261.py:14: RuntimeWarning: overflow encountered in exp\n",
      "  o_1 = 1 / (1 + np.exp(-Y_1))\n",
      "100%|██████████| 1875/1875 [00:03<00:00, 532.55it/s]\n"
     ]
    },
    {
     "name": "stdout",
     "output_type": "stream",
     "text": [
      "epoch 0 loss: 0.4971771793851429, train_acc 0.8599\n"
     ]
    },
    {
     "name": "stderr",
     "output_type": "stream",
     "text": [
      "100%|██████████| 1875/1875 [00:04<00:00, 458.68it/s]\n"
     ]
    },
    {
     "name": "stdout",
     "output_type": "stream",
     "text": [
      "epoch 1 loss: 0.46829610647081465, train_acc 0.8583\n"
     ]
    },
    {
     "name": "stderr",
     "output_type": "stream",
     "text": [
      "100%|██████████| 1875/1875 [00:04<00:00, 457.79it/s]\n"
     ]
    },
    {
     "name": "stdout",
     "output_type": "stream",
     "text": [
      "epoch 2 loss: 0.44006867892368196, train_acc 0.8762\n"
     ]
    },
    {
     "name": "stderr",
     "output_type": "stream",
     "text": [
      "100%|██████████| 1875/1875 [00:04<00:00, 442.59it/s]\n"
     ]
    },
    {
     "name": "stdout",
     "output_type": "stream",
     "text": [
      "epoch 3 loss: 0.4166567067932247, train_acc 0.8816\n"
     ]
    },
    {
     "name": "stderr",
     "output_type": "stream",
     "text": [
      "100%|██████████| 1875/1875 [00:04<00:00, 443.45it/s]\n"
     ]
    },
    {
     "name": "stdout",
     "output_type": "stream",
     "text": [
      "epoch 4 loss: 0.39859965120635227, train_acc 0.881\n"
     ]
    },
    {
     "name": "stderr",
     "output_type": "stream",
     "text": [
      "100%|██████████| 1875/1875 [00:04<00:00, 430.95it/s]\n"
     ]
    },
    {
     "name": "stdout",
     "output_type": "stream",
     "text": [
      "epoch 5 loss: 0.3992938551591004, train_acc 0.8895\n"
     ]
    },
    {
     "name": "stderr",
     "output_type": "stream",
     "text": [
      "100%|██████████| 1875/1875 [00:04<00:00, 457.45it/s]\n"
     ]
    },
    {
     "name": "stdout",
     "output_type": "stream",
     "text": [
      "epoch 6 loss: 0.3877136070120205, train_acc 0.8883\n"
     ]
    },
    {
     "name": "stderr",
     "output_type": "stream",
     "text": [
      "100%|██████████| 1875/1875 [00:04<00:00, 446.47it/s]\n"
     ]
    },
    {
     "name": "stdout",
     "output_type": "stream",
     "text": [
      "epoch 7 loss: 0.404282563557176, train_acc 0.8845\n"
     ]
    },
    {
     "name": "stderr",
     "output_type": "stream",
     "text": [
      "100%|██████████| 1875/1875 [00:04<00:00, 447.89it/s]\n"
     ]
    },
    {
     "name": "stdout",
     "output_type": "stream",
     "text": [
      "epoch 8 loss: 0.4207726526637897, train_acc 0.8851\n"
     ]
    },
    {
     "name": "stderr",
     "output_type": "stream",
     "text": [
      "100%|██████████| 1875/1875 [00:03<00:00, 542.21it/s]\n"
     ]
    },
    {
     "name": "stdout",
     "output_type": "stream",
     "text": [
      "epoch 9 loss: 0.4283194073093842, train_acc 0.8762\n"
     ]
    },
    {
     "name": "stderr",
     "output_type": "stream",
     "text": [
      "100%|██████████| 1875/1875 [00:03<00:00, 486.44it/s]\n"
     ]
    },
    {
     "data": {
      "text/plain": "<Figure size 432x288 with 1 Axes>",
      "image/png": "[encoded data removed]"
     },
     "metadata": {
      "needs_background": "light"
     },
     "output_type": "display_data"
    },
    {
     "data": {
      "text/plain": "<Figure size 432x288 with 1 Axes>",
      "image/png": "[encoded data removed]"
     },
     "metadata": {
      "needs_background": "light"
     },
     "output_type": "display_data"
    }
   ],
   "source": [
    "model = TwoLayerModel(128)\n",
    "L, acc = model.train(X_train, y_train, reg=1e-4)\n",
    "plt.plot(L)\n",
    "plt.xlabel('epoch')\n",
    "plt.ylabel('training loss')\n",
    "plt.title('Training Loss history')\n",
    "plt.show()\n",
    "plt.plot(acc)\n",
    "plt.xlabel('epoch')\n",
    "plt.ylabel('training acc')\n",
    "plt.title('Training acc history')\n",
    "plt.show()"
   ],
   "metadata": {
    "collapsed": false
   }
  },
  {
   "cell_type": "code",
   "execution_count": 6,
   "outputs": [
    {
     "name": "stdout",
     "output_type": "stream",
     "text": [
      "acc:0.8477\n"
     ]
    },
    {
     "name": "stderr",
     "output_type": "stream",
     "text": [
      "C:\\Users\\99480\\AppData\\Local\\Temp\\ipykernel_15332\\1954188261.py:14: RuntimeWarning: overflow encountered in exp\n",
      "  o_1 = 1 / (1 + np.exp(-Y_1))\n",
      "C:\\Users\\99480\\AppData\\Local\\Temp\\ipykernel_15332\\3395470305.py:2: DeprecationWarning: `np.float` is a deprecated alias for the builtin `float`. To silence this warning, use `float` by itself. Doing this will not modify any behavior and is safe. If you specifically wanted the numpy scalar type, use `np.float64` here.\n",
      "Deprecated in NumPy 1.20; for more details and guidance: https://numpy.org/devdocs/release/1.20.0-notes.html#deprecations\n",
      "  x = x.astype(np.float)\n"
     ]
    }
   ],
   "source": [
    "predict = model.predict(X_test)\n",
    "test_acc = (predict == y_test).mean()\n",
    "print(f\"acc:{test_acc}\")"
   ],
   "metadata": {
    "collapsed": false
   }
  },
  {
   "cell_type": "code",
   "execution_count": 26,
   "outputs": [],
   "source": [
    "model.save('model.txt')"
   ],
   "metadata": {
    "collapsed": false
   }
  },
  {
   "cell_type": "code",
   "execution_count": 25,
   "outputs": [
    {
     "data": {
      "text/plain": "<Figure size 432x288 with 2 Axes>",
      "image/png": "[encoded data removed]"
     },
     "metadata": {
      "needs_background": "light"
     },
     "output_type": "display_data"
    },
    {
     "data": {
      "text/plain": "<Figure size 432x288 with 2 Axes>",
      "image/png": "[encoded data removed]"
     },
     "metadata": {
      "needs_background": "light"
     },
     "output_type": "display_data"
    }
   ],
   "source": [
    "plt.figure(1)\n",
    "plt.imshow(model.params['W1'], cmap='spring', vmin=-1000, vmax=1000)\n",
    "plt.title('Layer 1 weights')\n",
    "plt.colorbar()\n",
    "plt.show()\n",
    "plt.figure(1)\n",
    "plt.imshow(model.params['W2'], cmap='spring', vmin=-300, vmax=300)\n",
    "plt.title('Layer 2 weights')\n",
    "plt.colorbar()\n",
    "plt.show()"
   ],
   "metadata": {
    "collapsed": false
   }
  },
  {
   "cell_type": "code",
   "execution_count": null,
   "outputs": [],
   "source": [],
   "metadata": {
    "collapsed": false
   }
  }
 ],
 "metadata": {
  "kernelspec": {
   "display_name": "Python 3",
   "language": "python",
   "name": "python3"
  },
  "language_info": {
   "codemirror_mode": {
    "name": "ipython",
    "version": 2
   },
   "file_extension": ".py",
   "mimetype": "text/x-python",
   "name": "python",
   "nbconvert_exporter": "python",
   "pygments_lexer": "ipython2",
   "version": "2.7.6"
  }
 },
 "nbformat": 4,
 "nbformat_minor": 0
}
