{
 "cells": [
  {
   "cell_type": "code",
   "execution_count": 1,
   "outputs": [
    {
     "data": {
      "text/plain": "(60000, 28, 28)"
     },
     "execution_count": 1,
     "metadata": {},
     "output_type": "execute_result"
    }
   ],
   "source": [
    "import numpy as np\n",
    "import tensorflow as tf\n",
    "\n",
    "mnist = tf.keras.datasets.mnist\n",
    "(X_train, y_train), (X_test, y_test) = mnist.load_data()\n",
    "X_train.shape"
   ],
   "metadata": {
    "collapsed": false,
    "ExecuteTime": {
     "start_time": "2023-03-31T20:56:08.467099Z",
     "end_time": "2023-03-31T20:56:11.967441Z"
    }
   }
  },
  {
   "cell_type": "code",
   "execution_count": 2,
   "outputs": [],
   "source": [
    "# 将图像数据展开为向量形式\n",
    "X_train = X_train.reshape(X_train.shape[0], -1)\n",
    "X_test = X_test.reshape(X_test.shape[0], -1)"
   ],
   "metadata": {
    "collapsed": false,
    "ExecuteTime": {
     "start_time": "2023-03-31T20:56:11.967441Z",
     "end_time": "2023-03-31T20:56:11.967441Z"
    }
   }
  },
  {
   "cell_type": "code",
   "execution_count": 3,
   "outputs": [],
   "source": [
    "def softmax(x):\n",
    "    x = x.astype(np.float)\n",
    "    xmax = np.max(x, axis=1, keepdims=True)\n",
    "    e_x = np.exp(x - xmax)\n",
    "    smax = np.sum(e_x, axis=1, keepdims=True)\n",
    "    return e_x / smax\n",
    "\n",
    "\n",
    "def CrossEntropy(predict, target):\n",
    "    N = predict.shape[0]\n",
    "    entropy = -np.log(predict[np.arange(N), target])\n",
    "    return entropy"
   ],
   "metadata": {
    "collapsed": false,
    "ExecuteTime": {
     "start_time": "2023-03-31T20:56:11.968441Z",
     "end_time": "2023-03-31T20:56:11.974440Z"
    }
   }
  },
  {
   "cell_type": "code",
   "execution_count": 10,
   "outputs": [],
   "source": [
    "from tqdm import tqdm\n",
    "import matplotlib.pyplot as plt\n",
    "\n",
    "\n",
    "class TwoLayerModel:\n",
    "    def __init__(self, hidden_size, input_size=784, output_size=10, std=1e-4):\n",
    "        self.params = {'W1': std * np.random.randn(input_size, hidden_size), 'b1': np.zeros(hidden_size),\n",
    "                       'W2': std * np.random.randn(hidden_size, output_size), 'b2': np.zeros(output_size)}\n",
    "        self.patience = 5\n",
    "\n",
    "    def forward(self, X):\n",
    "        O = {'X': X}\n",
    "        Y_1 = np.dot(X, self.params['W1']) + self.params['b1']\n",
    "        o_1 = 1 / (1 + np.exp(-Y_1))\n",
    "        Y_2 = np.dot(o_1, self.params['W2']) + self.params['b2']\n",
    "        o_2 = softmax(Y_2)\n",
    "        O['Y_1'], O['o_1'], O['Y_2'], O['o_2'] = Y_1, o_1, Y_2, o_2\n",
    "        return O\n",
    "\n",
    "    def loss_grad(self, X, y, reg):\n",
    "        O = self.forward(X)\n",
    "        Y_1, o_1, Y_2, o_2 = O['Y_1'], O['o_1'], O['Y_2'], O['o_2']\n",
    "        N = X.shape[0]\n",
    "        loss = np.sum(CrossEntropy(o_2, y)) / N\n",
    "        dY_2 = o_2.copy()\n",
    "        dY_2[np.arange(N), y] -= 1\n",
    "        dY_2 /= N\n",
    "\n",
    "        # backward\n",
    "        dW2 = np.dot(o_1.T, dY_2)\n",
    "        db2 = np.sum(dY_2, axis=0)\n",
    "        do_1 = np.dot(dY_2, self.params['W2'].T)\n",
    "        dY_1 = np.multiply(do_1, 1 - do_1)\n",
    "        dW1 = np.dot(X.T, dY_1)\n",
    "        db1 = np.sum(dY_1, axis=0)\n",
    "        dW2 += reg * self.params['W2']\n",
    "        dW1 += reg * self.params['W1']\n",
    "        grads = {'W1': dW1, 'b1': db1, 'W2': dW2, 'b2': db2}\n",
    "        return loss, grads\n",
    "\n",
    "    def train(self, X, y, reg, epochs=50, lr=0.01, batch_size=32):\n",
    "        N, D = X.shape\n",
    "        num_iter = N // batch_size\n",
    "        avgl = []\n",
    "        train_avgacc, pred_avgacc = [], []\n",
    "        for epoch in range(epochs):\n",
    "            L = 0\n",
    "            for _ in tqdm(range(num_iter)):\n",
    "                batch_indices = np.random.choice(N, batch_size, replace=True)\n",
    "                X_batch = X[batch_indices]\n",
    "                Y_batch = y[batch_indices]\n",
    "                loss, grads = self.loss_grad(X_batch, Y_batch, reg)\n",
    "                L += loss\n",
    "                # 更新参数\n",
    "                self.params['W1'] -= lr * grads['W1']\n",
    "                self.params['b1'] -= lr * grads['b1']\n",
    "                self.params['W2'] -= lr * grads['W2']\n",
    "                self.params['b2'] -= lr * grads['b2']\n",
    "            train_acc = (self.predict(X_train) == y_train).mean()\n",
    "            pred_acc = (self.predict(X_test) == y_test).mean()\n",
    "            L /= num_iter\n",
    "            avgl.append(L)\n",
    "            train_avgacc.append(train_acc)\n",
    "            pred_avgacc.append(pred_acc)\n",
    "            print(f\"epoch {epoch} loss: {L}, train_acc {train_acc},pred_acc {pred_acc}\")\n",
    "        return avgl, train_avgacc, pred_avgacc\n",
    "\n",
    "    def predict(self, X):\n",
    "        o_2 = self.forward(X)['o_2']\n",
    "        y_pred = np.argmax(o_2, axis=1)\n",
    "        return y_pred\n",
    "\n",
    "    def save(self, path):\n",
    "        with open(path, 'w') as f:\n",
    "            for key, value in self.params.items():\n",
    "                f.write(f'{key}')\n",
    "                for v in value:\n",
    "                    f.write(f'{v}')\n",
    "            f.write(\"activate function: sigmoid\")"
   ],
   "metadata": {
    "collapsed": false,
    "ExecuteTime": {
     "start_time": "2023-03-31T21:00:30.970098Z",
     "end_time": "2023-03-31T21:00:30.981101Z"
    }
   }
  },
  {
   "cell_type": "code",
   "execution_count": 5,
   "outputs": [
    {
     "name": "stderr",
     "output_type": "stream",
     "text": [
      "  0%|          | 0/1875 [00:00<?, ?it/s]C:/Users/99480/AppData/Local/Temp/xpython_14404/3395470305.py:2: DeprecationWarning: `np.float` is a deprecated alias for the builtin `float`. To silence this warning, use `float` by itself. Doing this will not modify any behavior and is safe. If you specifically wanted the numpy scalar type, use `np.float64` here.\n",
      "Deprecated in NumPy 1.20; for more details and guidance: https://numpy.org/devdocs/release/1.20.0-notes.html#deprecations\n",
      "  x = x.astype(np.float)\n",
      "C:/Users/99480/AppData/Local/Temp/xpython_14404/2727000714.py:14: RuntimeWarning: overflow encountered in exp\n",
      "  o_1 = 1 / (1 + np.exp(-Y_1))\n",
      "100%|##########| 1875/1875 [00:03<00:00, 502.32it/s]\n"
     ]
    },
    {
     "name": "stdout",
     "output_type": "stream",
     "text": [
      "epoch 0 loss: 1.0869370769975104, train_acc 0.81475,pred_acc 0.8169\n"
     ]
    },
    {
     "name": "stderr",
     "output_type": "stream",
     "text": [
      "100%|##########| 1875/1875 [00:03<00:00, 608.20it/s]\n"
     ]
    },
    {
     "name": "stdout",
     "output_type": "stream",
     "text": [
      "epoch 1 loss: 0.6471395128759813, train_acc 0.8216666666666667,pred_acc 0.8284\n"
     ]
    },
    {
     "name": "stderr",
     "output_type": "stream",
     "text": [
      "100%|##########| 1875/1875 [00:03<00:00, 602.53it/s]\n"
     ]
    },
    {
     "name": "stdout",
     "output_type": "stream",
     "text": [
      "epoch 2 loss: 0.585145360907861, train_acc 0.8358833333333333,pred_acc 0.8443\n"
     ]
    },
    {
     "name": "stderr",
     "output_type": "stream",
     "text": [
      "100%|##########| 1875/1875 [00:03<00:00, 506.41it/s]\n"
     ]
    },
    {
     "name": "stdout",
     "output_type": "stream",
     "text": [
      "epoch 3 loss: 0.5351022956935952, train_acc 0.84565,pred_acc 0.8514\n"
     ]
    },
    {
     "name": "stderr",
     "output_type": "stream",
     "text": [
      "100%|##########| 1875/1875 [00:03<00:00, 539.72it/s]\n"
     ]
    },
    {
     "name": "stdout",
     "output_type": "stream",
     "text": [
      "epoch 4 loss: 0.5079473324749899, train_acc 0.8521166666666666,pred_acc 0.857\n"
     ]
    },
    {
     "name": "stderr",
     "output_type": "stream",
     "text": [
      "100%|##########| 1875/1875 [00:03<00:00, 560.88it/s]\n"
     ]
    },
    {
     "name": "stdout",
     "output_type": "stream",
     "text": [
      "epoch 5 loss: 0.5036791582770911, train_acc 0.8554666666666667,pred_acc 0.8626\n"
     ]
    },
    {
     "name": "stderr",
     "output_type": "stream",
     "text": [
      "100%|##########| 1875/1875 [00:02<00:00, 819.69it/s]\n"
     ]
    },
    {
     "name": "stdout",
     "output_type": "stream",
     "text": [
      "epoch 6 loss: 0.48665698148923076, train_acc 0.8579,pred_acc 0.8623\n"
     ]
    },
    {
     "name": "stderr",
     "output_type": "stream",
     "text": [
      "100%|##########| 1875/1875 [00:02<00:00, 757.41it/s]\n"
     ]
    },
    {
     "name": "stdout",
     "output_type": "stream",
     "text": [
      "epoch 7 loss: 0.48360323812415573, train_acc 0.8596166666666667,pred_acc 0.8645\n"
     ]
    },
    {
     "name": "stderr",
     "output_type": "stream",
     "text": [
      "100%|##########| 1875/1875 [00:02<00:00, 655.75it/s]\n"
     ]
    },
    {
     "name": "stdout",
     "output_type": "stream",
     "text": [
      "epoch 8 loss: 0.4760161204490632, train_acc 0.8625833333333334,pred_acc 0.8686\n"
     ]
    },
    {
     "name": "stderr",
     "output_type": "stream",
     "text": [
      "100%|##########| 1875/1875 [00:02<00:00, 680.29it/s]\n"
     ]
    },
    {
     "name": "stdout",
     "output_type": "stream",
     "text": [
      "epoch 9 loss: 0.4742553238939607, train_acc 0.8616,pred_acc 0.8691\n"
     ]
    },
    {
     "name": "stderr",
     "output_type": "stream",
     "text": [
      "100%|##########| 1875/1875 [00:02<00:00, 693.13it/s]\n"
     ]
    },
    {
     "name": "stdout",
     "output_type": "stream",
     "text": [
      "epoch 10 loss: 0.4753264650852602, train_acc 0.8606666666666667,pred_acc 0.8687\n"
     ]
    },
    {
     "name": "stderr",
     "output_type": "stream",
     "text": [
      "100%|##########| 1875/1875 [00:02<00:00, 759.35it/s]\n"
     ]
    },
    {
     "name": "stdout",
     "output_type": "stream",
     "text": [
      "epoch 11 loss: 0.467925995932359, train_acc 0.8598166666666667,pred_acc 0.8675\n"
     ]
    },
    {
     "name": "stderr",
     "output_type": "stream",
     "text": [
      "100%|##########| 1875/1875 [00:02<00:00, 753.61it/s]\n"
     ]
    },
    {
     "name": "stdout",
     "output_type": "stream",
     "text": [
      "epoch 12 loss: 0.46371350591019517, train_acc 0.8618,pred_acc 0.8685\n"
     ]
    },
    {
     "name": "stderr",
     "output_type": "stream",
     "text": [
      "100%|##########| 1875/1875 [00:03<00:00, 513.52it/s]\n"
     ]
    },
    {
     "name": "stdout",
     "output_type": "stream",
     "text": [
      "epoch 13 loss: 0.46161607451968595, train_acc 0.8627333333333334,pred_acc 0.8677\n"
     ]
    },
    {
     "name": "stderr",
     "output_type": "stream",
     "text": [
      "100%|##########| 1875/1875 [00:03<00:00, 497.81it/s]\n"
     ]
    },
    {
     "name": "stdout",
     "output_type": "stream",
     "text": [
      "epoch 14 loss: 0.45809482593662854, train_acc 0.8629,pred_acc 0.8689\n"
     ]
    },
    {
     "name": "stderr",
     "output_type": "stream",
     "text": [
      "100%|##########| 1875/1875 [00:03<00:00, 528.92it/s]\n"
     ]
    },
    {
     "name": "stdout",
     "output_type": "stream",
     "text": [
      "epoch 15 loss: 0.4511413456581405, train_acc 0.8621166666666666,pred_acc 0.8689\n"
     ]
    },
    {
     "name": "stderr",
     "output_type": "stream",
     "text": [
      "100%|##########| 1875/1875 [00:02<00:00, 783.70it/s]\n"
     ]
    },
    {
     "name": "stdout",
     "output_type": "stream",
     "text": [
      "epoch 16 loss: 0.46507396335148826, train_acc 0.8625,pred_acc 0.87\n"
     ]
    },
    {
     "name": "stderr",
     "output_type": "stream",
     "text": [
      "100%|##########| 1875/1875 [00:03<00:00, 605.16it/s]\n"
     ]
    },
    {
     "name": "stdout",
     "output_type": "stream",
     "text": [
      "epoch 17 loss: 0.4491157472949139, train_acc 0.8634833333333334,pred_acc 0.8704\n"
     ]
    },
    {
     "name": "stderr",
     "output_type": "stream",
     "text": [
      "100%|##########| 1875/1875 [00:02<00:00, 766.50it/s]\n"
     ]
    },
    {
     "name": "stdout",
     "output_type": "stream",
     "text": [
      "epoch 18 loss: 0.4592555246687692, train_acc 0.8629666666666667,pred_acc 0.8717\n"
     ]
    },
    {
     "name": "stderr",
     "output_type": "stream",
     "text": [
      "100%|##########| 1875/1875 [00:03<00:00, 498.43it/s]\n"
     ]
    },
    {
     "name": "stdout",
     "output_type": "stream",
     "text": [
      "epoch 19 loss: 0.4554383351543623, train_acc 0.8634,pred_acc 0.8712\n"
     ]
    },
    {
     "name": "stderr",
     "output_type": "stream",
     "text": [
      "100%|##########| 1875/1875 [00:03<00:00, 498.74it/s]\n"
     ]
    },
    {
     "name": "stdout",
     "output_type": "stream",
     "text": [
      "epoch 20 loss: 0.45689569641450506, train_acc 0.86575,pred_acc 0.8769\n"
     ]
    },
    {
     "name": "stderr",
     "output_type": "stream",
     "text": [
      "100%|##########| 1875/1875 [00:03<00:00, 548.93it/s]\n"
     ]
    },
    {
     "name": "stdout",
     "output_type": "stream",
     "text": [
      "epoch 21 loss: 0.45040357573995227, train_acc 0.8660833333333333,pred_acc 0.8751\n"
     ]
    },
    {
     "name": "stderr",
     "output_type": "stream",
     "text": [
      "100%|##########| 1875/1875 [00:03<00:00, 514.94it/s]\n"
     ]
    },
    {
     "name": "stdout",
     "output_type": "stream",
     "text": [
      "epoch 22 loss: 0.4499162464928837, train_acc 0.8663166666666666,pred_acc 0.8749\n"
     ]
    },
    {
     "name": "stderr",
     "output_type": "stream",
     "text": [
      "100%|##########| 1875/1875 [00:04<00:00, 468.32it/s]\n"
     ]
    },
    {
     "name": "stdout",
     "output_type": "stream",
     "text": [
      "epoch 23 loss: 0.4534919619758651, train_acc 0.8658666666666667,pred_acc 0.8763\n"
     ]
    },
    {
     "name": "stderr",
     "output_type": "stream",
     "text": [
      "100%|##########| 1875/1875 [00:03<00:00, 501.76it/s]\n"
     ]
    },
    {
     "name": "stdout",
     "output_type": "stream",
     "text": [
      "epoch 24 loss: 0.44521706859800836, train_acc 0.8646666666666667,pred_acc 0.8752\n"
     ]
    },
    {
     "name": "stderr",
     "output_type": "stream",
     "text": [
      "100%|##########| 1875/1875 [00:03<00:00, 504.67it/s]\n"
     ]
    },
    {
     "name": "stdout",
     "output_type": "stream",
     "text": [
      "epoch 25 loss: 0.4482213695825683, train_acc 0.86635,pred_acc 0.8768\n"
     ]
    },
    {
     "name": "stderr",
     "output_type": "stream",
     "text": [
      "100%|##########| 1875/1875 [00:02<00:00, 715.78it/s]\n"
     ]
    },
    {
     "name": "stdout",
     "output_type": "stream",
     "text": [
      "epoch 26 loss: 0.44429181311490096, train_acc 0.8662833333333333,pred_acc 0.8751\n"
     ]
    },
    {
     "name": "stderr",
     "output_type": "stream",
     "text": [
      "100%|##########| 1875/1875 [00:03<00:00, 499.09it/s]\n"
     ]
    },
    {
     "name": "stdout",
     "output_type": "stream",
     "text": [
      "epoch 27 loss: 0.4417703504554394, train_acc 0.8661166666666666,pred_acc 0.8732\n"
     ]
    },
    {
     "name": "stderr",
     "output_type": "stream",
     "text": [
      "100%|##########| 1875/1875 [00:03<00:00, 507.72it/s]\n"
     ]
    },
    {
     "name": "stdout",
     "output_type": "stream",
     "text": [
      "epoch 28 loss: 0.4397042526923814, train_acc 0.8676166666666667,pred_acc 0.8748\n"
     ]
    },
    {
     "name": "stderr",
     "output_type": "stream",
     "text": [
      "100%|##########| 1875/1875 [00:03<00:00, 483.11it/s]\n"
     ]
    },
    {
     "name": "stdout",
     "output_type": "stream",
     "text": [
      "epoch 29 loss: 0.4392836937545063, train_acc 0.8697,pred_acc 0.8785\n"
     ]
    },
    {
     "name": "stderr",
     "output_type": "stream",
     "text": [
      "100%|##########| 1875/1875 [00:03<00:00, 599.42it/s]\n"
     ]
    },
    {
     "name": "stdout",
     "output_type": "stream",
     "text": [
      "epoch 30 loss: 0.4318341510066626, train_acc 0.8707666666666667,pred_acc 0.8781\n"
     ]
    },
    {
     "name": "stderr",
     "output_type": "stream",
     "text": [
      "100%|##########| 1875/1875 [00:03<00:00, 594.01it/s]\n"
     ]
    },
    {
     "name": "stdout",
     "output_type": "stream",
     "text": [
      "epoch 31 loss: 0.4336927585115559, train_acc 0.8713666666666666,pred_acc 0.8812\n"
     ]
    },
    {
     "name": "stderr",
     "output_type": "stream",
     "text": [
      "100%|##########| 1875/1875 [00:03<00:00, 526.87it/s]\n"
     ]
    },
    {
     "name": "stdout",
     "output_type": "stream",
     "text": [
      "epoch 32 loss: 0.4362724957908407, train_acc 0.8728166666666667,pred_acc 0.8789\n"
     ]
    },
    {
     "name": "stderr",
     "output_type": "stream",
     "text": [
      "100%|##########| 1875/1875 [00:03<00:00, 512.15it/s]\n"
     ]
    },
    {
     "name": "stdout",
     "output_type": "stream",
     "text": [
      "epoch 33 loss: 0.4271682409600467, train_acc 0.87305,pred_acc 0.8779\n"
     ]
    },
    {
     "name": "stderr",
     "output_type": "stream",
     "text": [
      "100%|##########| 1875/1875 [00:02<00:00, 634.94it/s]\n"
     ]
    },
    {
     "name": "stdout",
     "output_type": "stream",
     "text": [
      "epoch 34 loss: 0.42880063444699806, train_acc 0.8742166666666666,pred_acc 0.8797\n"
     ]
    },
    {
     "name": "stderr",
     "output_type": "stream",
     "text": [
      "100%|##########| 1875/1875 [00:02<00:00, 720.59it/s]\n"
     ]
    },
    {
     "name": "stdout",
     "output_type": "stream",
     "text": [
      "epoch 35 loss: 0.4282594047926376, train_acc 0.87455,pred_acc 0.8811\n"
     ]
    },
    {
     "name": "stderr",
     "output_type": "stream",
     "text": [
      "100%|##########| 1875/1875 [00:02<00:00, 728.79it/s]\n"
     ]
    },
    {
     "name": "stdout",
     "output_type": "stream",
     "text": [
      "epoch 36 loss: 0.4202299220769818, train_acc 0.87565,pred_acc 0.884\n"
     ]
    },
    {
     "name": "stderr",
     "output_type": "stream",
     "text": [
      "100%|##########| 1875/1875 [00:02<00:00, 714.30it/s]\n"
     ]
    },
    {
     "name": "stdout",
     "output_type": "stream",
     "text": [
      "epoch 37 loss: 0.41758517864695016, train_acc 0.8755166666666667,pred_acc 0.8815\n"
     ]
    },
    {
     "name": "stderr",
     "output_type": "stream",
     "text": [
      "100%|##########| 1875/1875 [00:02<00:00, 716.52it/s]\n"
     ]
    },
    {
     "name": "stdout",
     "output_type": "stream",
     "text": [
      "epoch 38 loss: 0.4219267236502387, train_acc 0.8764666666666666,pred_acc 0.8838\n"
     ]
    },
    {
     "name": "stderr",
     "output_type": "stream",
     "text": [
      "100%|##########| 1875/1875 [00:02<00:00, 753.28it/s]\n"
     ]
    },
    {
     "name": "stdout",
     "output_type": "stream",
     "text": [
      "epoch 39 loss: 0.4161200078808215, train_acc 0.8770833333333333,pred_acc 0.8849\n"
     ]
    },
    {
     "name": "stderr",
     "output_type": "stream",
     "text": [
      "100%|##########| 1875/1875 [00:02<00:00, 741.71it/s]\n"
     ]
    },
    {
     "name": "stdout",
     "output_type": "stream",
     "text": [
      "epoch 40 loss: 0.41544342909369697, train_acc 0.8760833333333333,pred_acc 0.884\n"
     ]
    },
    {
     "name": "stderr",
     "output_type": "stream",
     "text": [
      "100%|##########| 1875/1875 [00:02<00:00, 732.79it/s]\n"
     ]
    },
    {
     "name": "stdout",
     "output_type": "stream",
     "text": [
      "epoch 41 loss: 0.410137299814347, train_acc 0.8781333333333333,pred_acc 0.8854\n"
     ]
    },
    {
     "name": "stderr",
     "output_type": "stream",
     "text": [
      "100%|##########| 1875/1875 [00:02<00:00, 684.82it/s]\n"
     ]
    },
    {
     "name": "stdout",
     "output_type": "stream",
     "text": [
      "epoch 42 loss: 0.4075341167177839, train_acc 0.8749666666666667,pred_acc 0.8829\n"
     ]
    },
    {
     "name": "stderr",
     "output_type": "stream",
     "text": [
      "100%|##########| 1875/1875 [00:02<00:00, 701.48it/s]\n"
     ]
    },
    {
     "name": "stdout",
     "output_type": "stream",
     "text": [
      "epoch 43 loss: 0.41351763531530766, train_acc 0.8751,pred_acc 0.883\n"
     ]
    },
    {
     "name": "stderr",
     "output_type": "stream",
     "text": [
      "100%|##########| 1875/1875 [00:02<00:00, 689.23it/s]\n"
     ]
    },
    {
     "name": "stdout",
     "output_type": "stream",
     "text": [
      "epoch 44 loss: 0.41107754832404175, train_acc 0.87535,pred_acc 0.8834\n"
     ]
    },
    {
     "name": "stderr",
     "output_type": "stream",
     "text": [
      "100%|##########| 1875/1875 [00:02<00:00, 677.56it/s]\n"
     ]
    },
    {
     "name": "stdout",
     "output_type": "stream",
     "text": [
      "epoch 45 loss: 0.4091265938478616, train_acc 0.8752333333333333,pred_acc 0.8854\n"
     ]
    },
    {
     "name": "stderr",
     "output_type": "stream",
     "text": [
      "100%|##########| 1875/1875 [00:02<00:00, 694.05it/s]\n"
     ]
    },
    {
     "name": "stdout",
     "output_type": "stream",
     "text": [
      "epoch 46 loss: 0.4147697363455032, train_acc 0.8746333333333334,pred_acc 0.8859\n"
     ]
    },
    {
     "name": "stderr",
     "output_type": "stream",
     "text": [
      "100%|##########| 1875/1875 [00:02<00:00, 706.75it/s]\n"
     ]
    },
    {
     "name": "stdout",
     "output_type": "stream",
     "text": [
      "epoch 47 loss: 0.40789571281209097, train_acc 0.875,pred_acc 0.8849\n"
     ]
    },
    {
     "name": "stderr",
     "output_type": "stream",
     "text": [
      "100%|##########| 1875/1875 [00:02<00:00, 687.37it/s]\n"
     ]
    },
    {
     "name": "stdout",
     "output_type": "stream",
     "text": [
      "epoch 48 loss: 0.4070110905441731, train_acc 0.8761666666666666,pred_acc 0.8833\n"
     ]
    },
    {
     "name": "stderr",
     "output_type": "stream",
     "text": [
      "100%|##########| 1875/1875 [00:02<00:00, 690.99it/s]\n"
     ]
    },
    {
     "name": "stdout",
     "output_type": "stream",
     "text": [
      "epoch 49 loss: 0.404770706469975, train_acc 0.8758833333333333,pred_acc 0.8844\n"
     ]
    },
    {
     "data": {
      "image/png": "[encoded data removed]",
      "text/plain": "<Figure size 432x288 with 1 Axes>"
     },
     "metadata": {
      "needs_background": "light"
     },
     "output_type": "display_data"
    },
    {
     "data": {
      "image/png": "[encoded data removed]",
      "text/plain": "<Figure size 432x288 with 1 Axes>"
     },
     "metadata": {
      "needs_background": "light"
     },
     "output_type": "display_data"
    }
   ],
   "source": [
    "model = TwoLayerModel(128)\n",
    "L, train_acc, pred_acc = model.train(X_train, y_train, reg=1e-4)\n",
    "plt.plot(L)\n",
    "plt.xlabel('epoch')\n",
    "plt.ylabel('training loss')\n",
    "plt.title('Training Loss history')\n",
    "plt.show()\n",
    "plt.plot(train_acc)\n",
    "plt.plot(pred_acc)\n",
    "plt.xlabel('epoch')\n",
    "plt.ylabel('training acc')\n",
    "plt.title('Training acc history')\n",
    "plt.show()"
   ],
   "metadata": {
    "collapsed": false,
    "ExecuteTime": {
     "start_time": "2023-03-31T20:56:12.417726Z",
     "end_time": "2023-03-31T20:59:23.811829Z"
    }
   }
  },
  {
   "cell_type": "code",
   "execution_count": 6,
   "outputs": [
    {
     "name": "stderr",
     "output_type": "stream",
     "text": [
      "C:/Users/99480/AppData/Local/Temp/xpython_14404/2727000714.py:14: RuntimeWarning: overflow encountered in exp\n",
      "  o_1 = 1 / (1 + np.exp(-Y_1))\n",
      "C:/Users/99480/AppData/Local/Temp/xpython_14404/3395470305.py:2: DeprecationWarning: `np.float` is a deprecated alias for the builtin `float`. To silence this warning, use `float` by itself. Doing this will not modify any behavior and is safe. If you specifically wanted the numpy scalar type, use `np.float64` here.\n",
      "Deprecated in NumPy 1.20; for more details and guidance: https://numpy.org/devdocs/release/1.20.0-notes.html#deprecations\n",
      "  x = x.astype(np.float)\n"
     ]
    },
    {
     "name": "stdout",
     "output_type": "stream",
     "text": [
      "acc:0.8844\n"
     ]
    }
   ],
   "source": [
    "predict = model.predict(X_test)\n",
    "test_acc = (predict == y_test).mean()\n",
    "print(f\"acc:{test_acc}\")"
   ],
   "metadata": {
    "collapsed": false,
    "ExecuteTime": {
     "start_time": "2023-03-31T20:59:23.811829Z",
     "end_time": "2023-03-31T20:59:23.915344Z"
    }
   }
  },
  {
   "cell_type": "code",
   "execution_count": 11,
   "outputs": [],
   "source": [
    "model.save('model.txt')"
   ],
   "metadata": {
    "collapsed": false,
    "ExecuteTime": {
     "start_time": "2023-03-31T21:00:35.904956Z",
     "end_time": "2023-03-31T21:00:35.915340Z"
    }
   }
  },
  {
   "cell_type": "code",
   "execution_count": 8,
   "outputs": [
    {
     "data": {
      "image/png": "[encoded data removed]",
      "text/plain": "<Figure size 432x288 with 2 Axes>"
     },
     "metadata": {
      "needs_background": "light"
     },
     "output_type": "display_data"
    },
    {
     "data": {
      "image/png": "[encoded data removed]",
      "text/plain": "<Figure size 432x288 with 2 Axes>"
     },
     "metadata": {
      "needs_background": "light"
     },
     "output_type": "display_data"
    }
   ],
   "source": [
    "plt.figure(1)\n",
    "plt.imshow(model.params['W1'], cmap='spring', vmin=-1000, vmax=1000)\n",
    "plt.title('Layer 1 weights')\n",
    "plt.colorbar()\n",
    "plt.show()\n",
    "plt.figure(1)\n",
    "plt.imshow(model.params['W2'], cmap='spring', vmin=-300, vmax=300)\n",
    "plt.title('Layer 2 weights')\n",
    "plt.colorbar()\n",
    "plt.show()"
   ],
   "metadata": {
    "collapsed": false,
    "ExecuteTime": {
     "start_time": "2023-03-31T20:59:23.914345Z",
     "end_time": "2023-03-31T20:59:24.095483Z"
    }
   }
  },
  {
   "cell_type": "code",
   "execution_count": 9,
   "outputs": [],
   "source": [],
   "metadata": {
    "collapsed": false,
    "ExecuteTime": {
     "start_time": "2023-03-31T20:59:24.094484Z",
     "end_time": "2023-03-31T20:59:24.095483Z"
    }
   }
  }
 ],
 "metadata": {
  "kernelspec": {
   "name": "xpython",
   "language": "python",
   "display_name": "Python 3.10 (XPython)"
  },
  "language_info": {
   "codemirror_mode": {
    "name": "ipython",
    "version": 2
   },
   "file_extension": ".py",
   "mimetype": "text/x-python",
   "name": "python",
   "nbconvert_exporter": "python",
   "pygments_lexer": "ipython2",
   "version": "2.7.6"
  }
 },
 "nbformat": 4,
 "nbformat_minor": 0
}
