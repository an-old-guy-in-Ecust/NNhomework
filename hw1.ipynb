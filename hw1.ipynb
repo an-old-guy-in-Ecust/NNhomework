{
 "cells": [
  {
   "cell_type": "code",
   "execution_count": 1,
   "outputs": [
    {
     "data": {
      "text/plain": "(60000, 28, 28)"
     },
     "execution_count": 1,
     "metadata": {},
     "output_type": "execute_result"
    }
   ],
   "source": [
    "import numpy as np\n",
    "import tensorflow as tf\n",
    "\n",
    "mnist = tf.keras.datasets.mnist\n",
    "(X_train, y_train), (X_test, y_test) = mnist.load_data()\n",
    "X_train.shape"
   ],
   "metadata": {
    "collapsed": false,
    "ExecuteTime": {
     "start_time": "2023-03-31T19:17:13.452415Z",
     "end_time": "2023-03-31T19:17:15.753392Z"
    }
   }
  },
  {
   "cell_type": "code",
   "execution_count": 2,
   "outputs": [],
   "source": [
    "# 将图像数据展开为向量形式\n",
    "X_train = X_train.reshape(X_train.shape[0], -1)\n",
    "X_test = X_test.reshape(X_test.shape[0], -1)"
   ],
   "metadata": {
    "collapsed": false,
    "ExecuteTime": {
     "start_time": "2023-03-31T19:17:15.753392Z",
     "end_time": "2023-03-31T19:17:15.782342Z"
    }
   }
  },
  {
   "cell_type": "code",
   "execution_count": 3,
   "outputs": [],
   "source": [
    "def softmax(x):\n",
    "    x = x.astype(np.float)\n",
    "    xmax = np.max(x, axis=1, keepdims=True)\n",
    "    e_x = np.exp(x - xmax)\n",
    "    smax = np.sum(e_x, axis=1, keepdims=True)\n",
    "    return e_x / smax\n",
    "\n",
    "\n",
    "def CrossEntropy(predict, target):\n",
    "    N = predict.shape[0]\n",
    "    entropy = -np.log(predict[np.arange(N), target])\n",
    "    return entropy"
   ],
   "metadata": {
    "collapsed": false,
    "ExecuteTime": {
     "start_time": "2023-03-31T19:17:15.769618Z",
     "end_time": "2023-03-31T19:17:15.788229Z"
    }
   }
  },
  {
   "cell_type": "code",
   "execution_count": 34,
   "outputs": [],
   "source": [
    "from tqdm import tqdm\n",
    "import matplotlib.pyplot as plt\n",
    "\n",
    "\n",
    "class TwoLayerModel:\n",
    "    def __init__(self, hidden_size, input_size=784, output_size=10, std=1e-4):\n",
    "        self.params = {'W1': std * np.random.randn(input_size, hidden_size), 'b1': np.zeros(hidden_size),\n",
    "                       'W2': std * np.random.randn(hidden_size, output_size), 'b2': np.zeros(output_size)}\n",
    "        self.patience = 5\n",
    "\n",
    "    def forward(self, X):\n",
    "        O = {'X': X}\n",
    "        Y_1 = np.dot(X, self.params['W1']) + self.params['b1']\n",
    "        o_1 = 1 / (1 + np.exp(-Y_1))\n",
    "        Y_2 = np.dot(o_1, self.params['W2']) + self.params['b2']\n",
    "        o_2 = softmax(Y_2)\n",
    "        O['Y_1'], O['o_1'], O['Y_2'], O['o_2'] = Y_1, o_1, Y_2, o_2\n",
    "        return O\n",
    "\n",
    "    def loss_grad(self, X, y, reg):\n",
    "        O = self.forward(X)\n",
    "        Y_1, o_1, Y_2, o_2 = O['Y_1'], O['o_1'], O['Y_2'], O['o_2']\n",
    "        N = X.shape[0]\n",
    "        loss = np.sum(CrossEntropy(o_2, y)) / N\n",
    "        dY_2 = o_2.copy()\n",
    "        dY_2[np.arange(N), y] -= 1\n",
    "        dY_2 /= N\n",
    "\n",
    "        # backward\n",
    "        dW2 = np.dot(o_1.T, dY_2)\n",
    "        db2 = np.sum(dY_2, axis=0)\n",
    "        do_1 = np.dot(dY_2, self.params['W2'].T)\n",
    "        dY_1 = np.multiply(do_1, 1 - do_1)\n",
    "        dW1 = np.dot(X.T, dY_1)\n",
    "        db1 = np.sum(dY_1, axis=0)\n",
    "        dW2 += reg * self.params['W2']\n",
    "        dW1 += reg * self.params['W1']\n",
    "        grads = {'W1': dW1, 'b1': db1, 'W2': dW2, 'b2': db2}\n",
    "        return loss, grads\n",
    "\n",
    "    def train(self, X, y, reg, epochs=50, lr=0.01, lr_decay=1, batch_size=32):\n",
    "        N, D = X.shape\n",
    "        num_iter = N // batch_size\n",
    "        avgl = []\n",
    "        train_avgacc, pred_avgacc = [], []\n",
    "        # patience = 0\n",
    "        # best_val = 0\n",
    "        for epoch in range(epochs):\n",
    "            L = 0\n",
    "            for i in tqdm(range(num_iter)):\n",
    "                batch_indices = np.random.choice(N, batch_size, replace=True)\n",
    "                X_batch = X[batch_indices]\n",
    "                Y_batch = y[batch_indices]\n",
    "                loss, grads = self.loss_grad(X_batch, Y_batch, reg)\n",
    "                L += loss\n",
    "                # 更新参数\n",
    "                self.params['W1'] -= lr * grads['W1']\n",
    "                self.params['b1'] -= lr * grads['b1']\n",
    "                self.params['W2'] -= lr * grads['W2']\n",
    "                self.params['b2'] -= lr * grads['b2']\n",
    "                # if not i % 5000:\n",
    "            if not epoch and epoch % 20 == 0:\n",
    "                lr *= lr_decay\n",
    "            # lr_decay *= 0.95\n",
    "            train_acc = (self.predict(X_train) == y_train).mean()\n",
    "            pred_acc = (self.predict(X_test) == y_test).mean()\n",
    "            # patience += 1\n",
    "            # if train_acc > best_val:\n",
    "            #     best_val = pred_acc\n",
    "            #     patience = 0\n",
    "            # elif patience >= self.patience:\n",
    "            #     break\n",
    "            L /= num_iter\n",
    "            avgl.append(L)\n",
    "            train_avgacc.append(train_acc)\n",
    "            pred_avgacc.append(pred_acc)\n",
    "            print(f\"epoch {epoch} loss: {L}, train_acc {train_acc},pred_acc {pred_acc}\")\n",
    "        return avgl, train_avgacc, pred_avgacc\n",
    "\n",
    "    def predict(self, X):\n",
    "        o_2 = self.forward(X)['o_2']\n",
    "        y_pred = np.argmax(o_2, axis=1)\n",
    "        return y_pred\n",
    "\n",
    "    def save(self, path):\n",
    "        with open(path, 'w') as f:\n",
    "            f.write(f'params: {self.params}')\n",
    "            f.write(\"activate function: sigmoid\")"
   ],
   "metadata": {
    "collapsed": false,
    "ExecuteTime": {
     "start_time": "2023-03-31T19:50:22.261832Z",
     "end_time": "2023-03-31T19:50:22.293053Z"
    }
   }
  },
  {
   "cell_type": "code",
   "execution_count": 35,
   "outputs": [
    {
     "name": "stderr",
     "output_type": "stream",
     "text": [
      "  0%|          | 0/1875 [00:00<?, ?it/s]C:\\Users\\99480\\AppData\\Local\\Temp\\ipykernel_11376\\3395470305.py:2: DeprecationWarning: `np.float` is a deprecated alias for the builtin `float`. To silence this warning, use `float` by itself. Doing this will not modify any behavior and is safe. If you specifically wanted the numpy scalar type, use `np.float64` here.\n",
      "Deprecated in NumPy 1.20; for more details and guidance: https://numpy.org/devdocs/release/1.20.0-notes.html#deprecations\n",
      "  x = x.astype(np.float)\n",
      "C:\\Users\\99480\\AppData\\Local\\Temp\\ipykernel_11376\\1681085911.py:14: RuntimeWarning: overflow encountered in exp\n",
      "  o_1 = 1 / (1 + np.exp(-Y_1))\n",
      "100%|██████████| 1875/1875 [00:03<00:00, 549.04it/s]\n"
     ]
    },
    {
     "name": "stdout",
     "output_type": "stream",
     "text": [
      "epoch 0 loss: 1.657721481128377, train_acc 0.5433666666666667,pred_acc 0.5442\n"
     ]
    },
    {
     "name": "stderr",
     "output_type": "stream",
     "text": [
      "100%|██████████| 1875/1875 [00:04<00:00, 454.36it/s]\n"
     ]
    },
    {
     "name": "stdout",
     "output_type": "stream",
     "text": [
      "epoch 1 loss: 1.3569000150229702, train_acc 0.5986666666666667,pred_acc 0.5927\n"
     ]
    },
    {
     "name": "stderr",
     "output_type": "stream",
     "text": [
      "100%|██████████| 1875/1875 [00:03<00:00, 525.62it/s]\n"
     ]
    },
    {
     "name": "stdout",
     "output_type": "stream",
     "text": [
      "epoch 2 loss: 1.1774283363952531, train_acc 0.7076666666666667,pred_acc 0.7112\n"
     ]
    },
    {
     "name": "stderr",
     "output_type": "stream",
     "text": [
      "100%|██████████| 1875/1875 [00:03<00:00, 488.17it/s]\n"
     ]
    },
    {
     "name": "stdout",
     "output_type": "stream",
     "text": [
      "epoch 3 loss: 0.9980727088722079, train_acc 0.7307833333333333,pred_acc 0.7329\n"
     ]
    },
    {
     "name": "stderr",
     "output_type": "stream",
     "text": [
      "100%|██████████| 1875/1875 [00:03<00:00, 487.73it/s]\n"
     ]
    },
    {
     "name": "stdout",
     "output_type": "stream",
     "text": [
      "epoch 4 loss: 0.8854342865440331, train_acc 0.7848166666666667,pred_acc 0.7857\n"
     ]
    },
    {
     "name": "stderr",
     "output_type": "stream",
     "text": [
      "100%|██████████| 1875/1875 [00:03<00:00, 474.75it/s]\n"
     ]
    },
    {
     "name": "stdout",
     "output_type": "stream",
     "text": [
      "epoch 5 loss: 0.8015291209126632, train_acc 0.8192333333333334,pred_acc 0.8247\n"
     ]
    },
    {
     "name": "stderr",
     "output_type": "stream",
     "text": [
      "100%|██████████| 1875/1875 [00:04<00:00, 464.08it/s]\n"
     ]
    },
    {
     "name": "stdout",
     "output_type": "stream",
     "text": [
      "epoch 6 loss: 0.715080527389075, train_acc 0.8229333333333333,pred_acc 0.8281\n"
     ]
    },
    {
     "name": "stderr",
     "output_type": "stream",
     "text": [
      "100%|██████████| 1875/1875 [00:04<00:00, 425.97it/s]\n"
     ]
    },
    {
     "name": "stdout",
     "output_type": "stream",
     "text": [
      "epoch 7 loss: 0.6654056087738057, train_acc 0.82785,pred_acc 0.8327\n"
     ]
    },
    {
     "name": "stderr",
     "output_type": "stream",
     "text": [
      "100%|██████████| 1875/1875 [00:04<00:00, 465.13it/s]\n"
     ]
    },
    {
     "name": "stdout",
     "output_type": "stream",
     "text": [
      "epoch 8 loss: 0.6474744558911726, train_acc 0.8376833333333333,pred_acc 0.8453\n"
     ]
    },
    {
     "name": "stderr",
     "output_type": "stream",
     "text": [
      "100%|██████████| 1875/1875 [00:04<00:00, 452.23it/s]\n"
     ]
    },
    {
     "name": "stdout",
     "output_type": "stream",
     "text": [
      "epoch 9 loss: 0.619690217142033, train_acc 0.8402,pred_acc 0.8457\n"
     ]
    },
    {
     "name": "stderr",
     "output_type": "stream",
     "text": [
      "100%|██████████| 1875/1875 [00:04<00:00, 455.22it/s]\n"
     ]
    },
    {
     "name": "stdout",
     "output_type": "stream",
     "text": [
      "epoch 10 loss: 0.5950669990968297, train_acc 0.8430833333333333,pred_acc 0.8491\n"
     ]
    },
    {
     "name": "stderr",
     "output_type": "stream",
     "text": [
      "100%|██████████| 1875/1875 [00:03<00:00, 503.94it/s]\n"
     ]
    },
    {
     "name": "stdout",
     "output_type": "stream",
     "text": [
      "epoch 11 loss: 0.57382577046261, train_acc 0.8474166666666667,pred_acc 0.8544\n"
     ]
    },
    {
     "name": "stderr",
     "output_type": "stream",
     "text": [
      "100%|██████████| 1875/1875 [00:03<00:00, 494.30it/s]\n"
     ]
    },
    {
     "name": "stdout",
     "output_type": "stream",
     "text": [
      "epoch 12 loss: 0.5618885971187076, train_acc 0.8490666666666666,pred_acc 0.8557\n"
     ]
    },
    {
     "name": "stderr",
     "output_type": "stream",
     "text": [
      "100%|██████████| 1875/1875 [00:04<00:00, 449.46it/s]\n"
     ]
    },
    {
     "name": "stdout",
     "output_type": "stream",
     "text": [
      "epoch 13 loss: 0.5432089016242421, train_acc 0.8546,pred_acc 0.8652\n"
     ]
    },
    {
     "name": "stderr",
     "output_type": "stream",
     "text": [
      "100%|██████████| 1875/1875 [00:03<00:00, 491.75it/s]\n"
     ]
    },
    {
     "name": "stdout",
     "output_type": "stream",
     "text": [
      "epoch 14 loss: 0.5285987256478267, train_acc 0.8564,pred_acc 0.8654\n"
     ]
    },
    {
     "name": "stderr",
     "output_type": "stream",
     "text": [
      "100%|██████████| 1875/1875 [00:03<00:00, 473.85it/s]\n"
     ]
    },
    {
     "name": "stdout",
     "output_type": "stream",
     "text": [
      "epoch 15 loss: 0.5126155534863931, train_acc 0.8588333333333333,pred_acc 0.8668\n"
     ]
    },
    {
     "name": "stderr",
     "output_type": "stream",
     "text": [
      "100%|██████████| 1875/1875 [00:03<00:00, 486.19it/s]\n"
     ]
    },
    {
     "name": "stdout",
     "output_type": "stream",
     "text": [
      "epoch 16 loss: 0.48999710249495954, train_acc 0.8642833333333333,pred_acc 0.8722\n"
     ]
    },
    {
     "name": "stderr",
     "output_type": "stream",
     "text": [
      "100%|██████████| 1875/1875 [00:04<00:00, 450.85it/s]\n"
     ]
    },
    {
     "name": "stdout",
     "output_type": "stream",
     "text": [
      "epoch 17 loss: 0.4750550546898193, train_acc 0.87225,pred_acc 0.8794\n"
     ]
    },
    {
     "name": "stderr",
     "output_type": "stream",
     "text": [
      "100%|██████████| 1875/1875 [00:04<00:00, 382.65it/s]\n"
     ]
    },
    {
     "name": "stdout",
     "output_type": "stream",
     "text": [
      "epoch 18 loss: 0.4614769529540436, train_acc 0.8757666666666667,pred_acc 0.8829\n"
     ]
    },
    {
     "name": "stderr",
     "output_type": "stream",
     "text": [
      "100%|██████████| 1875/1875 [00:04<00:00, 380.14it/s]\n"
     ]
    },
    {
     "name": "stdout",
     "output_type": "stream",
     "text": [
      "epoch 19 loss: 0.451379575267232, train_acc 0.8778666666666667,pred_acc 0.883\n"
     ]
    },
    {
     "name": "stderr",
     "output_type": "stream",
     "text": [
      "100%|██████████| 1875/1875 [00:04<00:00, 394.10it/s]\n"
     ]
    },
    {
     "name": "stdout",
     "output_type": "stream",
     "text": [
      "epoch 20 loss: 0.44237574372943295, train_acc 0.8768333333333334,pred_acc 0.8827\n"
     ]
    },
    {
     "name": "stderr",
     "output_type": "stream",
     "text": [
      "100%|██████████| 1875/1875 [00:04<00:00, 384.46it/s]\n"
     ]
    },
    {
     "name": "stdout",
     "output_type": "stream",
     "text": [
      "epoch 21 loss: 0.4383828485323592, train_acc 0.8774,pred_acc 0.8829\n"
     ]
    },
    {
     "name": "stderr",
     "output_type": "stream",
     "text": [
      "100%|██████████| 1875/1875 [00:04<00:00, 415.02it/s]\n"
     ]
    },
    {
     "name": "stdout",
     "output_type": "stream",
     "text": [
      "epoch 22 loss: 0.4424906204801917, train_acc 0.8761,pred_acc 0.881\n"
     ]
    },
    {
     "name": "stderr",
     "output_type": "stream",
     "text": [
      "100%|██████████| 1875/1875 [00:04<00:00, 383.37it/s]\n"
     ]
    },
    {
     "name": "stdout",
     "output_type": "stream",
     "text": [
      "epoch 23 loss: 0.4335806488846994, train_acc 0.8753666666666666,pred_acc 0.8791\n"
     ]
    },
    {
     "name": "stderr",
     "output_type": "stream",
     "text": [
      "100%|██████████| 1875/1875 [00:04<00:00, 385.96it/s]\n"
     ]
    },
    {
     "name": "stdout",
     "output_type": "stream",
     "text": [
      "epoch 24 loss: 0.4382570791765493, train_acc 0.8745,pred_acc 0.8786\n"
     ]
    },
    {
     "name": "stderr",
     "output_type": "stream",
     "text": [
      "100%|██████████| 1875/1875 [00:04<00:00, 388.02it/s]\n"
     ]
    },
    {
     "name": "stdout",
     "output_type": "stream",
     "text": [
      "epoch 25 loss: 0.43081588675283033, train_acc 0.8748166666666667,pred_acc 0.8784\n"
     ]
    },
    {
     "name": "stderr",
     "output_type": "stream",
     "text": [
      "100%|██████████| 1875/1875 [00:04<00:00, 382.57it/s]\n"
     ]
    },
    {
     "name": "stdout",
     "output_type": "stream",
     "text": [
      "epoch 26 loss: 0.43500924150169523, train_acc 0.8720666666666667,pred_acc 0.8776\n"
     ]
    },
    {
     "name": "stderr",
     "output_type": "stream",
     "text": [
      "100%|██████████| 1875/1875 [00:04<00:00, 389.78it/s]\n"
     ]
    },
    {
     "name": "stdout",
     "output_type": "stream",
     "text": [
      "epoch 27 loss: 0.4207028181119047, train_acc 0.8704666666666667,pred_acc 0.8773\n"
     ]
    },
    {
     "name": "stderr",
     "output_type": "stream",
     "text": [
      "100%|██████████| 1875/1875 [00:04<00:00, 385.91it/s]\n"
     ]
    },
    {
     "name": "stdout",
     "output_type": "stream",
     "text": [
      "epoch 28 loss: 0.423273558988159, train_acc 0.8705333333333334,pred_acc 0.8777\n"
     ]
    },
    {
     "name": "stderr",
     "output_type": "stream",
     "text": [
      "100%|██████████| 1875/1875 [00:04<00:00, 390.40it/s]\n"
     ]
    },
    {
     "name": "stdout",
     "output_type": "stream",
     "text": [
      "epoch 29 loss: 0.4231398191897351, train_acc 0.87,pred_acc 0.8737\n"
     ]
    },
    {
     "name": "stderr",
     "output_type": "stream",
     "text": [
      "100%|██████████| 1875/1875 [00:04<00:00, 377.63it/s]\n"
     ]
    },
    {
     "name": "stdout",
     "output_type": "stream",
     "text": [
      "epoch 30 loss: 0.42410683986012715, train_acc 0.8712166666666666,pred_acc 0.8745\n"
     ]
    },
    {
     "name": "stderr",
     "output_type": "stream",
     "text": [
      "100%|██████████| 1875/1875 [00:04<00:00, 382.05it/s]\n"
     ]
    },
    {
     "name": "stdout",
     "output_type": "stream",
     "text": [
      "epoch 31 loss: 0.4243230389489588, train_acc 0.8719666666666667,pred_acc 0.8743\n"
     ]
    },
    {
     "name": "stderr",
     "output_type": "stream",
     "text": [
      "100%|██████████| 1875/1875 [00:04<00:00, 412.06it/s]\n"
     ]
    },
    {
     "name": "stdout",
     "output_type": "stream",
     "text": [
      "epoch 32 loss: 0.41679554660153534, train_acc 0.8712166666666666,pred_acc 0.8743\n"
     ]
    },
    {
     "name": "stderr",
     "output_type": "stream",
     "text": [
      "100%|██████████| 1875/1875 [00:05<00:00, 372.56it/s]\n"
     ]
    },
    {
     "name": "stdout",
     "output_type": "stream",
     "text": [
      "epoch 33 loss: 0.40981153821267835, train_acc 0.8746333333333334,pred_acc 0.8788\n"
     ]
    },
    {
     "name": "stderr",
     "output_type": "stream",
     "text": [
      "100%|██████████| 1875/1875 [00:04<00:00, 379.66it/s]\n"
     ]
    },
    {
     "name": "stdout",
     "output_type": "stream",
     "text": [
      "epoch 34 loss: 0.41140657493653665, train_acc 0.8752833333333333,pred_acc 0.8798\n"
     ]
    },
    {
     "name": "stderr",
     "output_type": "stream",
     "text": [
      "100%|██████████| 1875/1875 [00:04<00:00, 389.45it/s]\n"
     ]
    },
    {
     "name": "stdout",
     "output_type": "stream",
     "text": [
      "epoch 35 loss: 0.40514940755247336, train_acc 0.8757833333333334,pred_acc 0.8816\n"
     ]
    },
    {
     "name": "stderr",
     "output_type": "stream",
     "text": [
      "100%|██████████| 1875/1875 [00:04<00:00, 379.83it/s]\n"
     ]
    },
    {
     "name": "stdout",
     "output_type": "stream",
     "text": [
      "epoch 36 loss: 0.41185820349999774, train_acc 0.8754666666666666,pred_acc 0.8826\n"
     ]
    },
    {
     "name": "stderr",
     "output_type": "stream",
     "text": [
      "100%|██████████| 1875/1875 [00:04<00:00, 398.58it/s]\n"
     ]
    },
    {
     "name": "stdout",
     "output_type": "stream",
     "text": [
      "epoch 37 loss: 0.4079039368226404, train_acc 0.8752666666666666,pred_acc 0.8828\n"
     ]
    },
    {
     "name": "stderr",
     "output_type": "stream",
     "text": [
      "100%|██████████| 1875/1875 [00:04<00:00, 380.14it/s]\n"
     ]
    },
    {
     "name": "stdout",
     "output_type": "stream",
     "text": [
      "epoch 38 loss: 0.4064493250618605, train_acc 0.8757666666666667,pred_acc 0.8834\n"
     ]
    },
    {
     "name": "stderr",
     "output_type": "stream",
     "text": [
      "100%|██████████| 1875/1875 [00:04<00:00, 393.83it/s]\n"
     ]
    },
    {
     "name": "stdout",
     "output_type": "stream",
     "text": [
      "epoch 39 loss: 0.4070537530126239, train_acc 0.8769333333333333,pred_acc 0.884\n"
     ]
    },
    {
     "name": "stderr",
     "output_type": "stream",
     "text": [
      "100%|██████████| 1875/1875 [00:04<00:00, 387.45it/s]\n"
     ]
    },
    {
     "name": "stdout",
     "output_type": "stream",
     "text": [
      "epoch 40 loss: 0.40314567515956107, train_acc 0.8778833333333333,pred_acc 0.8849\n"
     ]
    },
    {
     "name": "stderr",
     "output_type": "stream",
     "text": [
      "100%|██████████| 1875/1875 [00:04<00:00, 383.09it/s]\n"
     ]
    },
    {
     "name": "stdout",
     "output_type": "stream",
     "text": [
      "epoch 41 loss: 0.40181473728494455, train_acc 0.8784833333333333,pred_acc 0.8844\n"
     ]
    },
    {
     "name": "stderr",
     "output_type": "stream",
     "text": [
      "100%|██████████| 1875/1875 [00:04<00:00, 402.72it/s]\n"
     ]
    },
    {
     "name": "stdout",
     "output_type": "stream",
     "text": [
      "epoch 42 loss: 0.40902642662432553, train_acc 0.8802333333333333,pred_acc 0.8856\n"
     ]
    },
    {
     "name": "stderr",
     "output_type": "stream",
     "text": [
      "100%|██████████| 1875/1875 [00:04<00:00, 397.22it/s]\n"
     ]
    },
    {
     "name": "stdout",
     "output_type": "stream",
     "text": [
      "epoch 43 loss: 0.40620291985113266, train_acc 0.8790666666666667,pred_acc 0.8825\n"
     ]
    },
    {
     "name": "stderr",
     "output_type": "stream",
     "text": [
      "100%|██████████| 1875/1875 [00:04<00:00, 383.80it/s]\n"
     ]
    },
    {
     "name": "stdout",
     "output_type": "stream",
     "text": [
      "epoch 44 loss: 0.403003415366721, train_acc 0.8783333333333333,pred_acc 0.8825\n"
     ]
    },
    {
     "name": "stderr",
     "output_type": "stream",
     "text": [
      "100%|██████████| 1875/1875 [00:04<00:00, 390.67it/s]\n"
     ]
    },
    {
     "name": "stdout",
     "output_type": "stream",
     "text": [
      "epoch 45 loss: 0.4010603005585295, train_acc 0.8818833333333334,pred_acc 0.8851\n"
     ]
    },
    {
     "name": "stderr",
     "output_type": "stream",
     "text": [
      "100%|██████████| 1875/1875 [00:04<00:00, 394.05it/s]\n"
     ]
    },
    {
     "name": "stdout",
     "output_type": "stream",
     "text": [
      "epoch 46 loss: 0.4122160043092009, train_acc 0.8793,pred_acc 0.8829\n"
     ]
    },
    {
     "name": "stderr",
     "output_type": "stream",
     "text": [
      "100%|██████████| 1875/1875 [00:04<00:00, 451.55it/s]\n"
     ]
    },
    {
     "name": "stdout",
     "output_type": "stream",
     "text": [
      "epoch 47 loss: 0.39955009811538583, train_acc 0.8808833333333334,pred_acc 0.885\n"
     ]
    },
    {
     "name": "stderr",
     "output_type": "stream",
     "text": [
      "100%|██████████| 1875/1875 [00:04<00:00, 381.95it/s]\n"
     ]
    },
    {
     "name": "stdout",
     "output_type": "stream",
     "text": [
      "epoch 48 loss: 0.3991485398443144, train_acc 0.8811666666666667,pred_acc 0.8845\n"
     ]
    },
    {
     "name": "stderr",
     "output_type": "stream",
     "text": [
      "100%|██████████| 1875/1875 [00:03<00:00, 552.33it/s]\n"
     ]
    },
    {
     "name": "stdout",
     "output_type": "stream",
     "text": [
      "epoch 49 loss: 0.3957501906117794, train_acc 0.8822666666666666,pred_acc 0.8853\n"
     ]
    },
    {
     "data": {
      "text/plain": "<Figure size 432x288 with 1 Axes>",
      "image/png": "[encoded data removed]"
     },
     "metadata": {
      "needs_background": "light"
     },
     "output_type": "display_data"
    },
    {
     "data": {
      "text/plain": "<Figure size 432x288 with 1 Axes>",
      "image/png": "[encoded data removed]"
     },
     "metadata": {
      "needs_background": "light"
     },
     "output_type": "display_data"
    }
   ],
   "source": [
    "model = TwoLayerModel(128)\n",
    "L, train_acc, pred_acc = model.train(X_train, y_train, reg=1e-6)\n",
    "plt.plot(L)\n",
    "plt.xlabel('epoch')\n",
    "plt.ylabel('training loss')\n",
    "plt.title('Training Loss history')\n",
    "plt.show()\n",
    "plt.plot(train_acc)\n",
    "plt.plot(pred_acc)\n",
    "plt.xlabel('epoch')\n",
    "plt.ylabel('training acc')\n",
    "plt.title('Training acc history')\n",
    "plt.show()"
   ],
   "metadata": {
    "collapsed": false,
    "ExecuteTime": {
     "start_time": "2023-03-31T19:50:22.730538Z",
     "end_time": "2023-03-31T19:54:54.873128Z"
    }
   }
  },
  {
   "cell_type": "code",
   "execution_count": 36,
   "outputs": [
    {
     "name": "stdout",
     "output_type": "stream",
     "text": [
      "acc:0.8853\n"
     ]
    },
    {
     "name": "stderr",
     "output_type": "stream",
     "text": [
      "C:\\Users\\99480\\AppData\\Local\\Temp\\ipykernel_11376\\1681085911.py:14: RuntimeWarning: overflow encountered in exp\n",
      "  o_1 = 1 / (1 + np.exp(-Y_1))\n",
      "C:\\Users\\99480\\AppData\\Local\\Temp\\ipykernel_11376\\3395470305.py:2: DeprecationWarning: `np.float` is a deprecated alias for the builtin `float`. To silence this warning, use `float` by itself. Doing this will not modify any behavior and is safe. If you specifically wanted the numpy scalar type, use `np.float64` here.\n",
      "Deprecated in NumPy 1.20; for more details and guidance: https://numpy.org/devdocs/release/1.20.0-notes.html#deprecations\n",
      "  x = x.astype(np.float)\n"
     ]
    }
   ],
   "source": [
    "predict = model.predict(X_test)\n",
    "test_acc = (predict == y_test).mean()\n",
    "print(f\"acc:{test_acc}\")"
   ],
   "metadata": {
    "collapsed": false,
    "ExecuteTime": {
     "start_time": "2023-03-31T20:22:55.052099Z",
     "end_time": "2023-03-31T20:22:55.214090Z"
    }
   }
  },
  {
   "cell_type": "code",
   "execution_count": 37,
   "outputs": [],
   "source": [
    "model.save('model.txt')"
   ],
   "metadata": {
    "collapsed": false,
    "ExecuteTime": {
     "start_time": "2023-03-31T20:22:57.431968Z",
     "end_time": "2023-03-31T20:22:57.446595Z"
    }
   }
  },
  {
   "cell_type": "code",
   "execution_count": 38,
   "outputs": [
    {
     "data": {
      "text/plain": "<Figure size 432x288 with 2 Axes>",
      "image/png": "[encoded data removed]"
     },
     "metadata": {
      "needs_background": "light"
     },
     "output_type": "display_data"
    },
    {
     "data": {
      "text/plain": "<Figure size 432x288 with 2 Axes>",
      "image/png": "[encoded data removed]"
     },
     "metadata": {
      "needs_background": "light"
     },
     "output_type": "display_data"
    }
   ],
   "source": [
    "plt.figure(1)\n",
    "plt.imshow(model.params['W1'], cmap='spring', vmin=-1000, vmax=1000)\n",
    "plt.title('Layer 1 weights')\n",
    "plt.colorbar()\n",
    "plt.show()\n",
    "plt.figure(1)\n",
    "plt.imshow(model.params['W2'], cmap='spring', vmin=-300, vmax=300)\n",
    "plt.title('Layer 2 weights')\n",
    "plt.colorbar()\n",
    "plt.show()"
   ],
   "metadata": {
    "collapsed": false,
    "ExecuteTime": {
     "start_time": "2023-03-31T20:22:58.092375Z",
     "end_time": "2023-03-31T20:22:58.641472Z"
    }
   }
  },
  {
   "cell_type": "code",
   "execution_count": null,
   "outputs": [],
   "source": [],
   "metadata": {
    "collapsed": false
   }
  }
 ],
 "metadata": {
  "kernelspec": {
   "display_name": "Python 3",
   "language": "python",
   "name": "python3"
  },
  "language_info": {
   "codemirror_mode": {
    "name": "ipython",
    "version": 2
   },
   "file_extension": ".py",
   "mimetype": "text/x-python",
   "name": "python",
   "nbconvert_exporter": "python",
   "pygments_lexer": "ipython2",
   "version": "2.7.6"
  }
 },
 "nbformat": 4,
 "nbformat_minor": 0
}
